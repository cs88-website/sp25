{
 "cells": [
  {
   "cell_type": "code",
   "execution_count": null,
   "id": "cd56b90b-febd-467d-bbec-e424c4af490a",
   "metadata": {},
   "outputs": [],
   "source": [
    "import numpy as np"
   ]
  },
  {
   "cell_type": "markdown",
   "id": "272ac2ba-4203-4e15-bf87-6f9ab41ac251",
   "metadata": {},
   "source": [
    "# Sequence of Squares"
   ]
  },
  {
   "cell_type": "code",
   "execution_count": null,
   "id": "00331cb4-baa6-43fc-a467-b542b1268f5c",
   "metadata": {},
   "outputs": [],
   "source": [
    "r = range(10000)\n",
    "squares = [x * x for x in r]\n",
    "squares[:10]"
   ]
  },
  {
   "cell_type": "code",
   "execution_count": null,
   "id": "64b4567f-1ad1-436e-b221-35114a277107",
   "metadata": {},
   "outputs": [],
   "source": [
    "a = np.arange(10000)"
   ]
  },
  {
   "cell_type": "code",
   "execution_count": null,
   "id": "cc0fe0a5-2c47-4d69-8eb2-b91d47e8a4c3",
   "metadata": {},
   "outputs": [],
   "source": [
    "a * a"
   ]
  },
  {
   "cell_type": "code",
   "execution_count": null,
   "id": "47bb12a6-75f0-4753-aede-f6f61f0c15df",
   "metadata": {},
   "outputs": [],
   "source": [
    "%timeit [x * x for x in r]"
   ]
  },
  {
   "cell_type": "code",
   "execution_count": null,
   "id": "767b5d80-dc20-4ed6-b6c0-0737249a6270",
   "metadata": {},
   "outputs": [],
   "source": [
    "%timeit a * a"
   ]
  },
  {
   "cell_type": "code",
   "execution_count": null,
   "id": "4028ca6d-c7e5-46b8-915d-8458071b3d6b",
   "metadata": {},
   "outputs": [],
   "source": []
  },
  {
   "cell_type": "markdown",
   "id": "99b66867-7638-4629-a551-09abda242e9c",
   "metadata": {},
   "source": [
    "# Fibonacci Numbers"
   ]
  },
  {
   "cell_type": "code",
   "execution_count": null,
   "id": "d7bf39b8-f539-4603-b5f5-d6cc8d8be8ae",
   "metadata": {},
   "outputs": [],
   "source": [
    "def fib(n):\n",
    "    s = [0, 1]\n",
    "    for i in range(2, n):\n",
    "        s.append(s[i-2] + s[i-1])\n",
    "    return s\n",
    "\n",
    "fib(10)"
   ]
  },
  {
   "cell_type": "code",
   "execution_count": null,
   "id": "850048fa-c448-4e93-93ab-c58faa84f446",
   "metadata": {},
   "outputs": [],
   "source": [
    "def fib_array(n):\n",
    "    a = np.array([0, 1])\n",
    "    for i in range(2, n):\n",
    "        a = np.append(a, a[i-2] + a[i-1])\n",
    "    return a\n",
    "\n",
    "fib_array(10)"
   ]
  },
  {
   "cell_type": "code",
   "execution_count": null,
   "id": "60a5ba0f-c09d-4cd9-a70e-cf125b9d6576",
   "metadata": {},
   "outputs": [],
   "source": [
    "fib(90)[-10:]"
   ]
  },
  {
   "cell_type": "code",
   "execution_count": null,
   "id": "7e4c1d95-7222-42fa-8fa8-1ff5c2c50826",
   "metadata": {},
   "outputs": [],
   "source": [
    "fib_array(90)[-10:]"
   ]
  },
  {
   "cell_type": "code",
   "execution_count": null,
   "id": "cf9cf70c-7576-470f-b91e-ffb465f290f3",
   "metadata": {},
   "outputs": [],
   "source": [
    "%timeit fib(90)"
   ]
  },
  {
   "cell_type": "code",
   "execution_count": null,
   "id": "c773ea3c-3da7-41f1-8f3e-d030709213fb",
   "metadata": {},
   "outputs": [],
   "source": [
    "%timeit fib_array(90)"
   ]
  },
  {
   "cell_type": "code",
   "execution_count": null,
   "id": "afe96cd6-743e-4033-a15b-7511fe6582ed",
   "metadata": {},
   "outputs": [],
   "source": []
  }
 ],
 "metadata": {
  "kernelspec": {
   "display_name": "Python 3 (ipykernel)",
   "language": "python",
   "name": "python3"
  },
  "language_info": {
   "codemirror_mode": {
    "name": "ipython",
    "version": 3
   },
   "file_extension": ".py",
   "mimetype": "text/x-python",
   "name": "python",
   "nbconvert_exporter": "python",
   "pygments_lexer": "ipython3",
   "version": "3.11.7"
  }
 },
 "nbformat": 4,
 "nbformat_minor": 5
}
